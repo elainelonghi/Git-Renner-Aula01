{
  "nbformat": 4,
  "nbformat_minor": 0,
  "metadata": {
    "colab": {
      "name": "Git-Aula01.ipynb",
      "provenance": [],
      "authorship_tag": "ABX9TyMZGIn8UgjLHcdIl7HtCMB5",
      "include_colab_link": true
    },
    "kernelspec": {
      "name": "python3",
      "display_name": "Python 3"
    },
    "language_info": {
      "name": "python"
    }
  },
  "cells": [
    {
      "cell_type": "markdown",
      "metadata": {
        "id": "view-in-github",
        "colab_type": "text"
      },
      "source": [
        "<a href=\"https://colab.research.google.com/github/elainelonghi/Git-Renner-Aula01/blob/main/Git_Aula01.ipynb\" target=\"_parent\"><img src=\"https://colab.research.google.com/assets/colab-badge.svg\" alt=\"Open In Colab\"/></a>"
      ]
    },
    {
      "cell_type": "code",
      "execution_count": 1,
      "metadata": {
        "colab": {
          "base_uri": "https://localhost:8080/"
        },
        "id": "WtL5cgJJsUpv",
        "outputId": "29d67b01-db0b-41ec-fa09-aa7bdf6aa631"
      },
      "outputs": [
        {
          "output_type": "execute_result",
          "data": {
            "text/plain": [
              "[1, 2, 3, 4]"
            ]
          },
          "metadata": {},
          "execution_count": 1
        }
      ],
      "source": [
        "lista = [1,2,3,4]\n",
        "lista"
      ]
    },
    {
      "cell_type": "code",
      "source": [
        "lista.append(5)\n",
        "lista"
      ],
      "metadata": {
        "colab": {
          "base_uri": "https://localhost:8080/"
        },
        "id": "JB5ast8psgDx",
        "outputId": "e2f9c244-1c1b-462e-ec3e-9e0f61d73922"
      },
      "execution_count": 2,
      "outputs": [
        {
          "output_type": "execute_result",
          "data": {
            "text/plain": [
              "[1, 2, 3, 4, 5]"
            ]
          },
          "metadata": {},
          "execution_count": 2
        }
      ]
    }
  ]
}